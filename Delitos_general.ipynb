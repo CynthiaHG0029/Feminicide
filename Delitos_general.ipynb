{
 "cells": [
  {
   "cell_type": "code",
   "execution_count": null,
   "metadata": {},
   "outputs": [],
   "source": [
    "import pandas as pd\n",
    "import altair as alt\n",
    "alt.data_transformers.disable_max_rows()"
   ]
  },
  {
   "cell_type": "code",
   "execution_count": null,
   "metadata": {},
   "outputs": [],
   "source": [
    "d = pd.read_csv(\"./Municipal-Delitos-2015-2022_jun2022.csv\", encoding='latin-1')"
   ]
  },
  {
   "cell_type": "code",
   "execution_count": null,
   "metadata": {},
   "outputs": [],
   "source": [
    "d.shape"
   ]
  },
  {
   "cell_type": "code",
   "execution_count": null,
   "metadata": {},
   "outputs": [],
   "source": [
    "d.head()"
   ]
  },
  {
   "cell_type": "code",
   "execution_count": null,
   "metadata": {},
   "outputs": [],
   "source": [
    "d.Entidad.unique()"
   ]
  },
  {
   "cell_type": "code",
   "execution_count": null,
   "metadata": {},
   "outputs": [],
   "source": [
    "aguas = d[(d.Entidad == \"México\") & (d[\"Tipo de delito\"] == \"Feminicidio\")]\n",
    "aguas.head()"
   ]
  },
  {
   "cell_type": "code",
   "execution_count": null,
   "metadata": {},
   "outputs": [],
   "source": [
    "aguas.shape"
   ]
  },
  {
   "cell_type": "code",
   "execution_count": null,
   "metadata": {},
   "outputs": [],
   "source": [
    "aguas.columns[:9].tolist()"
   ]
  },
  {
   "cell_type": "code",
   "execution_count": null,
   "metadata": {},
   "outputs": [],
   "source": [
    "aguas.columns[9:].tolist()"
   ]
  },
  {
   "cell_type": "code",
   "execution_count": null,
   "metadata": {},
   "outputs": [],
   "source": [
    "aguas.set_index(aguas.columns[:9].tolist()).stack().reset_index()"
   ]
  },
  {
   "cell_type": "code",
   "execution_count": null,
   "metadata": {},
   "outputs": [],
   "source": [
    "laguas = aguas.melt(\n",
    "  id_vars=aguas.columns[:9].tolist(),\n",
    "  value_vars=aguas.columns[9:].tolist())\n",
    "\n",
    "laguas"
   ]
  },
  {
   "cell_type": "code",
   "execution_count": null,
   "metadata": {},
   "outputs": [],
   "source": [
    "laguas.rename(columns={'variable': 'mes'}, inplace=True)"
   ]
  },
  {
   "cell_type": "code",
   "execution_count": null,
   "metadata": {},
   "outputs": [],
   "source": [
    "laguas.groupby('mes').sum()"
   ]
  },
  {
   "cell_type": "code",
   "execution_count": null,
   "metadata": {},
   "outputs": [],
   "source": [
    "alt.Chart(laguas).mark_bar().encode(\n",
    "    x='sum(value)',\n",
    "    y='mes',\n",
    "    tooltip='sum(value)'\n",
    ")"
   ]
  },
  {
   "cell_type": "code",
   "execution_count": null,
   "metadata": {},
   "outputs": [],
   "source": [
    "alt.Chart(laguas).mark_bar().encode(\n",
    "    x='sum(value)',\n",
    "    y='mes',\n",
    "    color='Modalidad:N',\n",
    "    tooltip='sum(value)'\n",
    ")"
   ]
  },
  {
   "cell_type": "code",
   "execution_count": null,
   "metadata": {},
   "outputs": [],
   "source": [
    "laguas.Modalidad.unique()"
   ]
  },
  {
   "cell_type": "code",
   "execution_count": null,
   "metadata": {},
   "outputs": [],
   "source": [
    "alt.Chart(laguas).mark_bar().encode(\n",
    "    x='sum(value)',\n",
    "    y='mes',\n",
    "    color='Modalidad:N'\n",
    ")"
   ]
  },
  {
   "cell_type": "code",
   "execution_count": null,
   "metadata": {},
   "outputs": [],
   "source": [
    "alt.Chart(laguas).mark_bar().encode(\n",
    "    x=alt.X('sum(value)', stack='normalize'),\n",
    "    y='mes',\n",
    "    color='Municipio:N',\n",
    "    tooltip='sum(value)'\n",
    ")"
   ]
  },
  {
   "cell_type": "code",
   "execution_count": null,
   "metadata": {},
   "outputs": [],
   "source": [
    "laguas.head(1)"
   ]
  },
  {
   "cell_type": "code",
   "execution_count": null,
   "metadata": {},
   "outputs": [],
   "source": [
    "# suma acumulada por año\n",
    "\n",
    "alt.Chart(laguas).mark_line(\n",
    "    point=alt.OverlayMarkDef(color=\"purple\")\n",
    ").transform_window(\n",
    "    sort=[{'field': 'Año'}],\n",
    "    frame=[None, 0],\n",
    "    delito_acumulado='sum(value)'\n",
    ").encode(\n",
    "    x='Año:O',\n",
    "    y='delito_acumulado:Q',\n",
    "    tooltip='delito_acumulado:Q'\n",
    ").properties(width=600)"
   ]
  },
  {
   "cell_type": "code",
   "execution_count": null,
   "metadata": {},
   "outputs": [],
   "source": []
  }
 ],
 "metadata": {
  "kernelspec": {
   "display_name": "Python 3 (ipykernel)",
   "language": "python",
   "name": "python3"
  },
  "language_info": {
   "codemirror_mode": {
    "name": "ipython",
    "version": 3
   },
   "file_extension": ".py",
   "mimetype": "text/x-python",
   "name": "python",
   "nbconvert_exporter": "python",
   "pygments_lexer": "ipython3",
   "version": "3.9.12"
  },
  "vscode": {
   "interpreter": {
    "hash": "c0239aa56ea1812aee52c173d683a124404270efeabe828177d996997029de76"
   }
  }
 },
 "nbformat": 4,
 "nbformat_minor": 2
}
